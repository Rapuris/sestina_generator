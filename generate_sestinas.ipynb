{
 "cells": [
  {
   "cell_type": "code",
   "execution_count": 1,
   "id": "postal-opera",
   "metadata": {},
   "outputs": [
    {
     "name": "stderr",
     "output_type": "stream",
     "text": [
      "/opt/conda/lib/python3.8/site-packages/tensorflow/python/keras/optimizer_v2/optimizer_v2.py:374: UserWarning: The `lr` argument is deprecated, use `learning_rate` instead.\n",
      "  warnings.warn(\n"
     ]
    }
   ],
   "source": [
    "from textgenrnn import textgenrnn\n",
    "import syllapy"
   ]
  },
  {
   "cell_type": "code",
   "execution_count": 2,
   "id": "expensive-salad",
   "metadata": {},
   "outputs": [
    {
     "name": "stdout",
     "output_type": "stream",
     "text": [
      "rm: cannot remove 'poetry.ndjson.gz': No such file or directory\n",
      "  % Total    % Received % Xferd  Average Speed   Time    Time     Time  Current\n",
      "                                 Dload  Upload   Total   Spent    Left  Speed\n",
      "100 52.2M  100 52.2M    0     0  32.8M      0  0:00:01  0:00:01 --:--:-- 32.8M\n"
     ]
    }
   ],
   "source": [
    "download_fn = 'poetry.ndjson.gz'\n",
    "! rm $download_fn\n",
    "! curl -o $download_fn http://static.decontextualize.com/gutenberg-poetry-v001.ndjson.gz"
   ]
  },
  {
   "cell_type": "code",
   "execution_count": 3,
   "id": "geographic-shareware",
   "metadata": {},
   "outputs": [
    {
     "name": "stdout",
     "output_type": "stream",
     "text": [
      "rm: cannot remove 'poetry.ndjson': No such file or directory\n"
     ]
    }
   ],
   "source": [
    "poetry_fn = download_fn.replace('.gz', '')\n",
    "! rm $poetry_fn\n",
    "! gzip -d $download_fn"
   ]
  },
  {
   "cell_type": "code",
   "execution_count": 4,
   "id": "composite-brush",
   "metadata": {},
   "outputs": [],
   "source": [
    "with open('poetry.ndjson', 'r') as infile, open('poetry.txt', 'w') as outfile:\n",
    "    for line in infile:\n",
    "        nice_text = line.replace('{\"s\": \"', '').replace('\", \"gid\": \"19\"}', '')\n",
    "        outfile.write(nice_text)\n",
    "! head -1200 poetry.txt > poetry_short.txt"
   ]
  },
  {
   "cell_type": "code",
   "execution_count": 5,
   "id": "united-capability",
   "metadata": {},
   "outputs": [
    {
     "name": "stdout",
     "output_type": "stream",
     "text": [
      "1,200 texts collected.\n",
      "Training on 40,645 character sequences.\n",
      "317/317 [==============================] - 48s 141ms/step - loss: 1.6087\n",
      "####################\n",
      "Temperature: 0.2\n",
      "####################\n",
      "Showed the should the shower,\n",
      "\n",
      "Showed the fell of the liver,\n",
      "\n",
      "And the water of the should his wind,\n",
      "\n",
      "####################\n",
      "Temperature: 0.5\n",
      "####################\n",
      "And his waited and burthes and should mean leaf in the spawn;\n",
      "\n",
      "They heart his straighter that the moon;\n",
      "\n",
      "From the bead of the moon,\n",
      "\n",
      "####################\n",
      "Temperature: 1.0\n",
      "####################\n",
      "Full his curres by upon,\n",
      "\n",
      "Old your his streak you have every vaghies?\n",
      "\n",
      "lasty, a moon with his lending,\n",
      "\n"
     ]
    }
   ],
   "source": [
    "textgen = textgenrnn()\n",
    "textgen.train_from_file('poetry_short.txt', num_epochs=1)"
   ]
  },
  {
   "cell_type": "code",
   "execution_count": null,
   "id": "crude-pakistan",
   "metadata": {},
   "outputs": [
    {
     "name": "stderr",
     "output_type": "stream",
     "text": [
      " 67%|██████▋   | 67/100 [01:57<00:53,  1.62s/it]"
     ]
    }
   ],
   "source": [
    "a = textgen.generate(100, temperature=0.5, return_as_list=True)"
   ]
  },
  {
   "cell_type": "code",
   "execution_count": null,
   "id": "thirty-grant",
   "metadata": {},
   "outputs": [],
   "source": [
    "l_filtered = []\n",
    "for l in a:\n",
    "    length = syllapy.count(l)\n",
    "    if 8 <= length <= 12:\n",
    "        l_filtered.append(l)"
   ]
  },
  {
   "cell_type": "code",
   "execution_count": null,
   "id": "headed-sender",
   "metadata": {},
   "outputs": [],
   "source": [
    "class Poem:\n",
    "    def __init__(self, lines):\n",
    "        '''https://en.wikipedia.org/wiki/Sestina'''\n",
    "        assert isinstance(lines, list)\n",
    "        assert len(lines) >= 39\n",
    "        \n",
    "        self.end_words = {i:'' for i in range(6)}\n",
    "        \n",
    "        # I subtract 1 from each word index to be consistent with python's\n",
    "        # zero-based indexing, but I start with the 1-based to be consistent with \n",
    "        # wikipedia documentation\n",
    "        self.rotation = [6, 1, 5, 2, 4, 3, \\\n",
    "                         3, 6, 4, 1, 2, 5, \\\n",
    "                         5, 3, 2, 6, 1, 4, \\\n",
    "                         4, 5, 1, 3, 6, 2, \\\n",
    "                         2, 4, 6, 5, 3, 1]\n",
    "        self.rotation = [x - 1 for x in self.rotation]\n",
    "        self.envoi = [(6, 2), (1, 4), (5, 3)]\n",
    "        self.envoi = [(t[0]-1, t[1]-1) for t in self.envoi]\n",
    "        \n",
    "        self.sestina = []\n",
    "        self.get_end_words(lines[:6])\n",
    "        self.replace_last_words(lines[6:36])\n",
    "        self.compose_envoi(lines[36:39])\n",
    "    \n",
    "    def get_end_words(self, first_6_lines):\n",
    "        assert len(first_6_lines) == 6\n",
    "        for i, line in enumerate(first_6_lines):\n",
    "            self.end_words[i] = line.split()[-1]\n",
    "        self.sestina.extend(first_6_lines)\n",
    "    \n",
    "    def replace_last_words(self, middle_lines):\n",
    "        assert len(middle_lines) == 30\n",
    "        for i, line in enumerate(middle_lines):\n",
    "            word_i = self.rotation[i]\n",
    "            new_line = line.split()[:-1] + [self.end_words[word_i]]\n",
    "            self.sestina.append(' '.join(new_line))\n",
    "    \n",
    "    def compose_envoi(self, last_lines):\n",
    "        assert len(last_lines) == 3\n",
    "        for i, line in enumerate(last_lines):\n",
    "            pts = line.split()[:-1]\n",
    "            half = len(pts) // 2\n",
    "            etpl = self.envoi[i]\n",
    "            new_line = pts[:(half-1)] + [self.end_words[etpl[0]]] + \\\n",
    "                       pts[half:-1] + [self.end_words[etpl[1]]]\n",
    "            self.sestina.append(' '.join(new_line))\n",
    "    \n",
    "    def recite(self):\n",
    "        for i, line in enumerate(self.sestina):\n",
    "            print(line)\n",
    "            if (i+1)%6 == 0 and i > 0:\n",
    "                print()\n"
   ]
  },
  {
   "cell_type": "code",
   "execution_count": null,
   "id": "satisfied-trail",
   "metadata": {},
   "outputs": [],
   "source": [
    "p = Poem(l_filtered)\n",
    "p.recite()"
   ]
  }
 ],
 "metadata": {
  "kernelspec": {
   "display_name": "Python 3",
   "language": "python",
   "name": "python3"
  },
  "language_info": {
   "codemirror_mode": {
    "name": "ipython",
    "version": 3
   },
   "file_extension": ".py",
   "mimetype": "text/x-python",
   "name": "python",
   "nbconvert_exporter": "python",
   "pygments_lexer": "ipython3",
   "version": "3.8.6"
  }
 },
 "nbformat": 4,
 "nbformat_minor": 5
}
